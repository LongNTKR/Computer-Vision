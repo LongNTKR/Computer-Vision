{
  "cells": [
    {
      "cell_type": "code",
      "execution_count": 38,
      "metadata": {
        "id": "qbOHx2vOXtI-"
      },
      "outputs": [],
      "source": [
        "import numpy as np\n",
        "import pandas as pd\n",
        "from PIL import Image\n",
        "import os\n",
        "import math\n",
        "import timeit\n",
        "import matplotlib.pyplot as plt"
      ]
    },
    {
      "cell_type": "code",
      "execution_count": 39,
      "metadata": {
        "id": "u17LM282XvNf"
      },
      "outputs": [],
      "source": [
        "def load_data(path='/content/drive/MyDrive/Colab Notebooks/lemon_dataset', size=0.8):\n",
        "\n",
        "  x = []\n",
        "  y = []\n",
        "\n",
        "  lst_dir = os.listdir(path)\n",
        "\n",
        "  for dir in lst_dir:\n",
        "\n",
        "    new_path = path + '/' + dir\n",
        "\n",
        "    lst_img = os.listdir(new_path)\n",
        "\n",
        "    for img_name in lst_img:\n",
        "\n",
        "      x.append(np.asarray(Image.open(new_path + '/' + img_name)))\n",
        "\n",
        "    y += [lst_dir.index(dir)] * len(lst_img)\n",
        "  \n",
        "  n = len(x) // 3\n",
        "  m = int(n * 0.8)\n",
        "\n",
        "  x_train = x[: m] + x[n : n + m] + x[2 * n : 2 * n + m]\n",
        "  y_train = y[: m] + y[n : n + m] + y[2 * n : 2 * n + m]\n",
        "\n",
        "  x_test = x[m : n] + x[n + m : 2 * n] + x[2 * n + m:]\n",
        "  y_test = y[m : n] + y[n + m : 2 * n] + y[2 * n + m:]\n",
        "\n",
        "  return (x_train, y_train), (x_test, y_test)"
      ]
    },
    {
      "cell_type": "code",
      "execution_count": 40,
      "metadata": {
        "id": "eQfoa-iDfHB2"
      },
      "outputs": [],
      "source": [
        "def adam(parameters, grads, v, s, t, learning_rate = 0.01, beta1 = 0.9, beta2 = 0.999,  epsilon = 1e-8):\n",
        "    \n",
        "    L = len(parameters) // 2                \n",
        "    v_corrected = {}                         \n",
        "    s_corrected = {}                         \n",
        "\n",
        "    for l in range(1, L + 1):\n",
        "\n",
        "        v[\"dW\" + str(l)] = beta1 * v[\"dW\" + str(l)] + (1 - beta1) * grads['dW' + str(l)]\n",
        "        v[\"db\" + str(l)] = beta1 * v[\"db\" + str(l)] + (1 - beta1) * grads['db' + str(l)]\n",
        "\n",
        "        v_corrected[\"dW\" + str(l)] = v[\"dW\" + str(l)] / (1 - np.power(beta1, t))\n",
        "        v_corrected[\"db\" + str(l)] = v[\"db\" + str(l)] / (1 - np.power(beta1, t))\n",
        "\n",
        "        s[\"dW\" + str(l)] = beta2 * s[\"dW\" + str(l)] + (1 - beta2) * np.power(grads['dW' + str(l)], 2)\n",
        "        s[\"db\" + str(l)] = beta2 * s[\"db\" + str(l)] + (1 - beta2) * np.power(grads['db' + str(l)], 2)\n",
        "\n",
        "        s_corrected[\"dW\" + str(l)] = s[\"dW\" + str(l)] / (1 - np.power(beta2, t))\n",
        "        s_corrected[\"db\" + str(l)] = s[\"db\" + str(l)] / (1 - np.power(beta2, t))\n",
        "\n",
        "        parameters[\"W\" + str(l)] = parameters[\"W\" + str(l)] - learning_rate * (v_corrected[\"dW\" + str(l)] / (np.sqrt(s_corrected[\"dW\" + str(l)]) + epsilon))\n",
        "        parameters[\"b\" + str(l)] = parameters[\"b\" + str(l)] - learning_rate * (v_corrected[\"db\" + str(l)] / (np.sqrt(s_corrected[\"db\" + str(l)]) + epsilon))\n",
        "\n",
        "    return parameters, v, s, v_corrected, s_corrected"
      ]
    },
    {
      "cell_type": "code",
      "execution_count": 41,
      "metadata": {
        "id": "yDEe4f9JkSli"
      },
      "outputs": [],
      "source": [
        "def zero_pad(X, pad):\n",
        "\n",
        "    X_pad = np.pad(X, ((0, 0), (pad, pad), (pad, pad), (0, 0)), mode='constant', constant_values = (0,0))\n",
        "    \n",
        "    return X_pad"
      ]
    },
    {
      "cell_type": "code",
      "execution_count": 42,
      "metadata": {
        "id": "IhRR2IGvAQ4y"
      },
      "outputs": [],
      "source": [
        "def conv_backward(dZ, cache, lambd):\n",
        "\n",
        "    (A_prev, W, hparameters) = cache\n",
        "    \n",
        "    (m, n_H_prev, n_W_prev, n_C_prev) =  np.shape(A_prev)\n",
        "    \n",
        "    (f, f, n_C_prev, n_C) = np.shape(W)\n",
        "    \n",
        "    stride = hparameters['stride_conv']\n",
        "    pad = hparameters['pad']\n",
        "    \n",
        "    (m, n_H, n_W, n_C) = np.shape(dZ)\n",
        "    \n",
        "    dA_prev = np.zeros((m, n_H_prev, n_W_prev, n_C_prev))                          \n",
        "    dW = np.zeros((f, f, n_C_prev, n_C))\n",
        "    db = np.zeros((1, 1, 1, n_C))\n",
        "    \n",
        "    A_prev_pad = zero_pad(A_prev, pad)\n",
        "    dA_prev_pad = zero_pad(dA_prev, pad)\n",
        "    \n",
        "    for i in range(m):\n",
        "\n",
        "        a_prev_pad = A_prev_pad[i, :, :, :]\n",
        "        da_prev_pad = dA_prev_pad[i, :, :, :]\n",
        "\n",
        "        for h in range(n_H):\n",
        "\n",
        "            vert_start = stride * h\n",
        "            vert_end = stride * h + f\n",
        "\n",
        "            for w in range(n_W):\n",
        "\n",
        "                horiz_start = stride * w\n",
        "                horiz_end = stride * w + f\n",
        "\n",
        "                for c in range(n_C):\n",
        "\n",
        "                    a_slice = a_prev_pad[vert_start:vert_end, horiz_start:horiz_end, :]\n",
        "                    da_prev_pad[vert_start:vert_end, horiz_start:horiz_end, :] += W[:, :, :, c] * dZ[i, h, w, c]\n",
        "                    dW[:, :, :, c] += a_slice * dZ[i, h, w, c]\n",
        "                    db[:, :, :, c] += dZ[i, h, w, c]\n",
        "                    \n",
        "        dA_prev[i, :, :, :] = da_prev_pad[pad:-pad, pad:-pad, :]\n",
        "\n",
        "    #dW += lambd/m * w\n",
        "    \n",
        "    return dA_prev, dW, db"
      ]
    },
    {
      "cell_type": "code",
      "execution_count": 43,
      "metadata": {
        "id": "hHvcBjn05SUo"
      },
      "outputs": [],
      "source": [
        "def create_mask_from_window(x):\n",
        "\n",
        "    mask = (x == np.max(x))\n",
        "    \n",
        "    return mask"
      ]
    },
    {
      "cell_type": "code",
      "execution_count": 44,
      "metadata": {
        "id": "jqld0B_y5ScR"
      },
      "outputs": [],
      "source": [
        "def distribute_value(dz, shape):\n",
        "\n",
        "    (n_H, n_W) = shape\n",
        "    \n",
        "    average = np.prod(shape) \n",
        "    a = (dz/average)*np.ones(shape)\n",
        "\n",
        "    return a"
      ]
    },
    {
      "cell_type": "code",
      "execution_count": 45,
      "metadata": {
        "id": "gZhcXFOY5O-J"
      },
      "outputs": [],
      "source": [
        "def pool_backward(dA, cache, mode = \"max\"):\n",
        "\n",
        "    (A_prev, hparameters) = cache\n",
        "    \n",
        "    stride = hparameters['stride_pool']\n",
        "    f = hparameters['f']\n",
        "    \n",
        "    (m, n_H_prev, n_W_prev, n_C_prev) = A_prev.shape\n",
        "    (m , n_H, n_W, n_C) = dA.shape\n",
        "    \n",
        "    dA_prev = np.zeros(A_prev.shape)\n",
        "    \n",
        "    for i in range(m):\n",
        "\n",
        "        a_prev = A_prev[i, :, :, :]\n",
        "\n",
        "        for h in range(n_H):\n",
        "\n",
        "            vert_start = stride * h\n",
        "            vert_end = stride * h + f\n",
        "\n",
        "            for w in range(n_W):\n",
        "\n",
        "                horiz_start = stride * w\n",
        "                horiz_end = stride * w + f\n",
        "\n",
        "                for c in range(n_C):\n",
        "\n",
        "                    if mode == \"max\":\n",
        "\n",
        "                        a_prev_slice = a_prev[vert_start:vert_end, horiz_start:horiz_end, c]\n",
        "                        mask = create_mask_from_window(a_prev_slice)\n",
        "                        dA_prev[i, vert_start:vert_end, horiz_start:horiz_end, c] += mask * dA[i, h, w, c]\n",
        "\n",
        "                    elif mode == \"average\":\n",
        "\n",
        "                        da = dA[i, h, w, c]\n",
        "                        shape = (f,f)\n",
        "                        dA_prev[i, vert_start: vert_end, horiz_start: horiz_end, c] += distribute_value(da, shape)\n",
        "    \n",
        "    return dA_prev"
      ]
    },
    {
      "cell_type": "code",
      "source": [
        "def backward_propagation(X, Y, caches, hyparams, lambd):\n",
        "    \n",
        "    ((c_Z, c_A, c_W), (p_A), (h_A, h_W)) = caches\n",
        "\n",
        "    c_dZ = {}\n",
        "    c_dA = {}\n",
        "    c_dW = {}\n",
        "    c_db = {}\n",
        "\n",
        "    p_dA = {}\n",
        "\n",
        "    h_dZ = {}\n",
        "    h_dA = {}\n",
        "    h_dW = {}\n",
        "    h_db = {}\n",
        "  \n",
        "    m = X.shape[0]\n",
        "\n",
        "    h_L = len(h_A)\n",
        "    c_L = len(c_A)\n",
        "\n",
        "    for i in range(m):\n",
        "\n",
        "      h_A['A' + str(h_L)][i][Y[i]] -= 1\n",
        "\n",
        "    h_dZ['dZ' + str(h_L)] = h_A['A' + str(h_L)]\n",
        "    h_dW['dW' + str(h_L)] = 1. / m * np.dot(h_A['A' + str(h_L - 1)].T, h_dZ['dZ' + str(h_L)])# + lambd/m * h_W['W' + str(h_L)]\n",
        "    h_db['db' + str(h_L)] = 1. / m * np.sum(h_dZ['dZ' + str(h_L)], axis=0, keepdims=True)\n",
        "    \n",
        "    for l in range(h_L - 1, 1, -1):\n",
        "        \n",
        "        h_dA['dA' + str(l)] = np.dot(h_dZ['dZ' + str(l + 1)], h_W['W' + str(l + 1)].T)\n",
        "        h_dZ['dZ' + str(l)] = np.multiply(h_dA['dA' + str(l)], np.int64(h_A['A' + str(l)] > 0))\n",
        "        h_dW['dW' + str(l)] = 1. / m * np.dot(h_A['A' + str(l - 1)].T, h_dZ['dZ' + str(l)])# + lambd/m * h_W['W' + str(l)]\n",
        "        h_db['db' + str(l)] = 1. / m * np.sum(h_dZ['dZ' + str(l)], axis=0, keepdims=True)\n",
        "        \n",
        "    h_dA['dA1'] = np.dot(h_dZ['dZ2'], h_W['W2'].T)\n",
        "    h_dZ['dZ1'] = np.multiply(h_dA['dA1'], np.int64(h_A['A1'] > 0))\n",
        "    h_dW['dW1'] = 1. / m * np.dot(p_A['Afcl'].T, h_dZ['dZ1'])# + lambd/m * h_W['W1']\n",
        "    h_db['db1'] = 1. / m * np.sum(h_dZ['dZ1'], axis=0, keepdims=True)\n",
        "        \n",
        "    p_dA['dAfcl'] = np.dot(h_dZ['dZ1'], h_W['W1'].T)\n",
        "    p_dA['dA' + str(c_L)] = p_dA['dAfcl'].reshape(p_A['A' + str(c_L)].shape)\n",
        "    p_dA['dA' + str(c_L)] = pool_backward(p_dA['dA' + str(c_L)], (c_A['A' + str(c_L)], hyparams), mode = \"max\")\n",
        "    c_dA['dA' + str(c_L)] = np.multiply(p_dA['dA' + str(c_L)], np.int64(c_Z['Z' + str(c_L)] > 0))\n",
        "    c_dZ['dZ' + str(c_L)], c_dW['dW' + str(c_L)], c_db['db' + str(c_L)] = conv_backward(c_dA['dA' + str(c_L)], (p_A['A' + str(c_L - 1)], c_W['W' + str(c_L)], hyparams), lambd)\n",
        "\n",
        "    for l in range(c_L - 1, 1, -1):\n",
        "\n",
        "      p_dA['dA' + str(l)] = pool_backward(c_dZ['dZ' + str(l + 1)], (c_A['A' + str(l)], hyparams), mode = \"max\")\n",
        "      c_dA['dA' + str(l)] = np.multiply(p_dA['dA' + str(l)], np.int64(c_Z['Z' + str(l)] > 0))\n",
        "      c_dZ['dZ' + str(l)], c_dW['dW' + str(l)], c_db['db' + str(l)] = conv_backward(c_dA['dA' + str(l)], (p_A['A' + str(l - 1)], c_W['W' + str(l)], hyparams), lambd)\n",
        "\n",
        "    p_dA['dA1'] = pool_backward(c_dZ['dZ2'], (c_A['A1'], hyparams), mode = \"max\")\n",
        "    c_dA['dA1'] = np.multiply(p_dA['dA1'], np.int64(c_Z['Z1'] > 0))\n",
        "    c_dZ['dZ1'], c_dW['dW1'], c_db['db1'] = conv_backward(c_dA['dA1'], (X, c_W['W1'], hyparams), lambd)\n",
        "\n",
        "    c_grad = c_dW\n",
        "    c_grad.update(c_db)\n",
        "    h_grad = h_dW\n",
        "    h_grad.update(h_db)\n",
        "\n",
        "    return (c_grad, h_grad)"
      ],
      "metadata": {
        "id": "Ki-RX1hMPXeW"
      },
      "execution_count": 60,
      "outputs": []
    },
    {
      "cell_type": "code",
      "execution_count": 47,
      "metadata": {
        "id": "7zTlt3EaPiht"
      },
      "outputs": [],
      "source": [
        "def regulizer(w):\n",
        "\n",
        "  regulizer = 0\n",
        "\n",
        "  for value in w.values():\n",
        "\n",
        "    regulizer += np.sum(np.square(value))\n",
        "\n",
        "  return regulizer"
      ]
    },
    {
      "cell_type": "code",
      "execution_count": 48,
      "metadata": {
        "id": "39rUrWrZPuzG"
      },
      "outputs": [],
      "source": [
        "def soft_max(z):\n",
        "  z = z - np.max(z, axis=1, keepdims=True)\n",
        "  z = np.exp(z)\n",
        "  return z / np.sum(z, axis=1, keepdims=True)"
      ]
    },
    {
      "cell_type": "code",
      "execution_count": 49,
      "metadata": {
        "id": "zi7tPDlfO8b1"
      },
      "outputs": [],
      "source": [
        "def pool_forward(A_prev, hparameters, mode = \"max\"):\n",
        "\n",
        "    (m, n_H_prev, n_W_prev, n_C_prev) = A_prev.shape\n",
        "    \n",
        "    f = hparameters[\"f\"]\n",
        "    stride = hparameters[\"stride_pool\"]\n",
        "    \n",
        "    n_H = int(1 + (n_H_prev - f) / stride)\n",
        "    n_W = int(1 + (n_W_prev - f) / stride)\n",
        "    n_C = n_C_prev\n",
        "    \n",
        "    A = np.zeros((m, n_H, n_W, n_C))              \n",
        "    \n",
        "    for i in range(m):\n",
        "\n",
        "        for h in range(n_H):\n",
        "\n",
        "            vert_start = stride * h\n",
        "            vert_end = stride * h + f\n",
        "\n",
        "            for w in range(n_W):\n",
        "\n",
        "                horiz_start = stride * w\n",
        "                horiz_end = stride * w + f\n",
        "\n",
        "                for c in range(n_C):\n",
        "\n",
        "                    a_prev_slice = A_prev[i, vert_start:vert_end, horiz_start:horiz_end, c]\n",
        "\n",
        "                    if mode == \"max\":\n",
        "\n",
        "                        A[i, h, w, c] = np.max(a_prev_slice)\n",
        "\n",
        "                    elif mode == \"average\":\n",
        "                      \n",
        "                        A[i, h, w, c] = np.mean(a_prev_slice)\n",
        "    \n",
        "    return A"
      ]
    },
    {
      "cell_type": "code",
      "execution_count": 50,
      "metadata": {
        "id": "izu4aBOkPu3y"
      },
      "outputs": [],
      "source": [
        "def relu(z):\n",
        "  return np.where(z > 0, z, 0)"
      ]
    },
    {
      "cell_type": "code",
      "execution_count": 51,
      "metadata": {
        "id": "CrAWL34YkwjK"
      },
      "outputs": [],
      "source": [
        "def conv_single_step(a_slice_prev, W, b):\n",
        "\n",
        "    s = np.multiply(a_slice_prev, W)\n",
        "    Z = np.sum(s)\n",
        "    Z = Z + float(b)\n",
        "\n",
        "    return Z"
      ]
    },
    {
      "cell_type": "code",
      "execution_count": 52,
      "metadata": {
        "id": "OBjrJMEjif-5"
      },
      "outputs": [],
      "source": [
        "def conv_forward(A_prev, W, b, hparameters):\n",
        "\n",
        "    (m, n_H_prev, n_W_prev, n_C_prev) = np.shape(A_prev)\n",
        "    \n",
        "    (f, f, n_C_prev, n_C) = np.shape(W)\n",
        "    \n",
        "    stride = hparameters['stride_conv']\n",
        "    pad = hparameters['pad']\n",
        "    \n",
        "    n_H = int(((n_H_prev + 2*pad - f) / stride) + 1) \n",
        "    n_W = int(((n_W_prev + 2*pad - f) / stride) + 1) \n",
        "    \n",
        "    Z = np.zeros((m, n_H, n_W, n_C))\n",
        "    \n",
        "    A_prev_pad = zero_pad(A_prev, pad)\n",
        "    \n",
        "    for i in range(m):\n",
        "\n",
        "        for h in range(n_H):\n",
        "\n",
        "            vert_start = stride * h\n",
        "            vert_end = stride * h + f\n",
        "\n",
        "            for w in range(n_W):\n",
        "\n",
        "                horiz_start = stride * w\n",
        "                horiz_end = stride * w + f\n",
        "\n",
        "                for c in range(n_C):\n",
        "                  \n",
        "                    a_slice_prev = A_prev_pad[i, vert_start:vert_end, horiz_start:horiz_end, :]\n",
        "                    Z[i, h, w, c] = conv_single_step(a_slice_prev, W[:, :, :, c], b[:, :, :, c])\n",
        "    \n",
        "    return Z"
      ]
    },
    {
      "cell_type": "code",
      "source": [
        "def forward_propagation(X, Y, c_params, h_params, hyparams, lambd):\n",
        "\n",
        "  c_A = {}\n",
        "  c_W = {}\n",
        "  c_b = {}\n",
        "  c_Z = {}\n",
        "\n",
        "  p_A = {}\n",
        "\n",
        "  h_Z = {}\n",
        "  h_A = {}\n",
        "  h_W = {}\n",
        "  h_b = {}\n",
        "\n",
        "  c_L = len(c_params) // 2\n",
        "  m = X.shape[0]\n",
        "\n",
        "  for l in range(1, c_L + 1):\n",
        "    \n",
        "    c_W['W' + str(l)] = c_params['W' + str(l)]\n",
        "    c_b['b' + str(l)] = c_params['b' + str(l)]\n",
        "\n",
        "  h_L = len(h_params) // 2\n",
        "\n",
        "  for l in range(1, h_L + 1):\n",
        "  \n",
        "    h_W['W' + str(l)] = h_params['W' + str(l)]\n",
        "    h_b['b' + str(l)] = h_params['b' + str(l)]\n",
        "\n",
        "  c_Z['Z1'] = conv_forward(X, c_W['W1'], c_b['b1'], hyparams)\n",
        "  c_A['A1'] = relu(c_Z['Z1'])\n",
        "  p_A['A1'] = pool_forward(c_A['A1'], hyparams, mode = \"max\")\n",
        "\n",
        "  for l in range(2, c_L):\n",
        "\n",
        "    c_Z['Z' + str(l)] = conv_forward(p_A['A' + str(l - 1)], c_W['W' + str(l)], c_b['b' + str(l)], hyparams)\n",
        "    c_A['A' + str(l)] = relu(c_Z['Z' + str(l)])\n",
        "    p_A['A' + str(l)] = pool_forward(c_A['A' + str(l)], hyparams, mode = \"max\")\n",
        "\n",
        "\n",
        "  c_Z['Z' + str(c_L)] = conv_forward(p_A['A' + str(c_L - 1)], c_W['W' + str(c_L)], c_b['b' + str(c_L)], hyparams)\n",
        "  c_A['A' + str(c_L)] = relu(c_Z['Z' + str(c_L)])\n",
        "  p_A['A' + str(c_L)] = pool_forward(c_A['A' + str(c_L)], hyparams, mode = \"max\")\n",
        "\n",
        "  p_A['Afcl'] = p_A['A' + str(c_L)].reshape(m, -1)\n",
        "\n",
        "  h_Z['Z1'] = np.dot(p_A['Afcl'], h_W['W1']) + h_b['b1']\n",
        "  h_A['A1'] = relu(h_Z['Z1'])\n",
        "    \n",
        "  for l in range(2, h_L):\n",
        "      \n",
        "    h_Z['Z' + str(l)] = np.dot(h_A['A' + str(l - 1)], h_W['W' + str(l)]) + h_b['b' + str(l)]\n",
        "    h_A['A' + str(l)] = relu(h_Z['Z' + str(l)])\n",
        "    \n",
        "  h_Z['Z' + str(h_L)] = np.dot(h_A['A' + str(h_L - 1)], h_W['W' + str(h_L)]) + h_b['b' + str(h_L)]  \n",
        "  h_A['A' + str(h_L)] = soft_max(h_Z['Z' + str(h_L)])\n",
        "\n",
        "  log_probs = 0\n",
        "\n",
        "  for i in range(m):\n",
        "\n",
        "    log_probs += (-1) * np.log(h_A['A' + str(h_L)][i][Y[i]])\n",
        "\n",
        "  #regulize = regulizer(c_W) + regulizer(b_W) + regulizer(h_W) \n",
        "\n",
        "  cost = (1 / m) * log_probs# + regulize * lambd / (2 * m)\n",
        "  \n",
        "  return  cost, ((c_Z, c_A, c_W), (p_A), (h_A, h_W))"
      ],
      "metadata": {
        "id": "UxAZstIkOD4Q"
      },
      "execution_count": 61,
      "outputs": []
    },
    {
      "cell_type": "code",
      "execution_count": 54,
      "metadata": {
        "id": "UbnFy4s88WW-"
      },
      "outputs": [],
      "source": [
        "def random_mini_batches(X, Y, mini_batch_size = 32):\n",
        "    \n",
        "    m = len(X)                 \n",
        "    mini_batches = []\n",
        "        \n",
        "    X = np.array(X, dtype='object')\n",
        "    Y = np.array(Y, dtype='object')\n",
        "\n",
        "    permutation = list(np.random.permutation(m))\n",
        "    shuffled_X = X[permutation].tolist()\n",
        "    shuffled_Y = Y[permutation].tolist()\n",
        "\n",
        "    inc = mini_batch_size\n",
        "\n",
        "    num_complete_minibatches = math.floor(m / mini_batch_size)\n",
        "    for k in range(num_complete_minibatches):\n",
        "        \n",
        "        mini_batch_X = shuffled_X[k * inc:(k + 1) * inc]\n",
        "        mini_batch_Y = shuffled_Y[k * inc:(k + 1) * inc]\n",
        "\n",
        "        mini_batch = (mini_batch_X, mini_batch_Y)\n",
        "        mini_batches.append(mini_batch)\n",
        "\n",
        "    if m % mini_batch_size != 0:\n",
        "\n",
        "        mini_batch_X = shuffled_X[(k + 1) * inc:]\n",
        "        mini_batch_Y = shuffled_Y[(k + 1) * inc:]\n",
        "        \n",
        "        mini_batch = (mini_batch_X, mini_batch_Y)\n",
        "        mini_batches.append(mini_batch)\n",
        "        \n",
        "        num_complete_minibatches += 1\n",
        "    \n",
        "    return num_complete_minibatches, mini_batches"
      ]
    },
    {
      "cell_type": "code",
      "execution_count": 55,
      "metadata": {
        "id": "BkAWi70n9MVp"
      },
      "outputs": [],
      "source": [
        "def initialize_adam(parameters):\n",
        "    \n",
        "    L = len(parameters) // 2\n",
        "    v = {}\n",
        "    s = {}\n",
        "    \n",
        "    for l in range(1, L + 1):\n",
        "\n",
        "        v[\"dW\" + str(l)] = np.zeros(parameters['W' + str(l)].shape)\n",
        "        v[\"db\" + str(l)] = np.zeros(parameters['b' + str(l)].shape)\n",
        "        s[\"dW\" + str(l)] = np.zeros(parameters['W' + str(l)].shape)\n",
        "        s[\"db\" + str(l)] = np.zeros(parameters['b' + str(l)].shape)\n",
        "    \n",
        "    return v, s"
      ]
    },
    {
      "cell_type": "code",
      "execution_count": 65,
      "metadata": {
        "id": "iCoOn8Na80Ch"
      },
      "outputs": [],
      "source": [
        "def c_initialize_parames(kernel_size, layers_dims, input_size):\n",
        "    \n",
        "    parameters = {}\n",
        "    n_H, n_W= input_size * 2, input_size * 2\n",
        "    L = len(layers_dims) - 1\n",
        "     \n",
        "    for l in range(1, L + 1):\n",
        "\n",
        "        n_H, n_W = n_H // 2, n_W // 2\n",
        "        parameters['W' + str(l)] = np.random.randn(kernel_size, kernel_size, layers_dims[l-1], layers_dims[l]) * np.sqrt(2./layers_dims[l-1])\n",
        "        parameters['b' + str(l)] = np.zeros((1, 1, 1, layers_dims[l]))\n",
        "        \n",
        "    return int((n_H / 2)  * (n_W / 2) * layers_dims[-1]), parameters"
      ]
    },
    {
      "cell_type": "code",
      "execution_count": 57,
      "metadata": {
        "id": "PKCGxSAn8We2"
      },
      "outputs": [],
      "source": [
        "def h_initialize_params(layers_dims):\n",
        "    \n",
        "    parameters = {}\n",
        "    L = len(layers_dims) - 1\n",
        "     \n",
        "    for l in range(1, L + 1):\n",
        "\n",
        "        parameters['W' + str(l)] = np.random.randn(layers_dims[l-1], layers_dims[l]) * np.sqrt(2./layers_dims[l-1])\n",
        "        parameters['b' + str(l)] = np.zeros((1, layers_dims[l]))\n",
        "        \n",
        "    return parameters"
      ]
    },
    {
      "cell_type": "code",
      "source": [
        "def model(X, Y, c_layers_dims, h_layers_dims, kernel_size=(3, 3), input_size=(32, 32, 3), mini_batch_size = 32, hyparams = {\"pad\" : 1, \"stride_conv\": 1, \"f\" : 2, \"stride_pool\": 2},\n",
        "          learning_rate = 0.001, lambd = 0.0003, beta1 = 0.9, beta2 = 0.999,  epsilon = 1e-8, num_epochs = 50, params = None):\n",
        "            \n",
        "    costs = []  \n",
        "    t = 0  \n",
        "    if params is None:\n",
        "\n",
        "      flatten, c_params = c_initialize_parames(kernel_size[0], [input_size[2]] + c_layers_dims, input_size[0])         \n",
        "      c_v, c_s = initialize_adam(c_params)\n",
        "\n",
        "      h_params = h_initialize_params([flatten] + h_layers_dims)         \n",
        "      h_v, h_s = initialize_adam(h_params)   \n",
        "\n",
        "    else:\n",
        "\n",
        "      c_params, h_params, _ = params\n",
        "\n",
        "      c_v, c_s = initialize_adam(c_params)\n",
        "      h_v, h_s = initialize_adam(h_params)\n",
        "\n",
        "    for i in range(num_epochs):\n",
        "        \n",
        "        m, minibatches = random_mini_batches(X, Y, mini_batch_size)\n",
        "        cost_total = 0\n",
        "        \n",
        "        start = timeit.default_timer()\n",
        "\n",
        "        for minibatch in minibatches:\n",
        "\n",
        "            (minibatch_X, minibatch_Y) = minibatch\n",
        "\n",
        "            minibatch_X = np.array(minibatch_X) / 255\n",
        "            minibatch_Y = np.array(minibatch_Y)\n",
        "\n",
        "            cost, caches = forward_propagation(minibatch_X, minibatch_Y, c_params, h_params, hyparams, lambd)\n",
        "\n",
        "            cost_total += cost\n",
        "            \n",
        "            grads = backward_propagation(minibatch_X, minibatch_Y, caches, hyparams, lambd)\n",
        "\n",
        "            t = t + 1 \n",
        "\n",
        "            c_params, c_v, c_s, _, _ = adam(c_params, grads[0], c_v, c_s, t, learning_rate, beta1, beta2,  epsilon)\n",
        "\n",
        "            h_params, h_v, h_s, _, _ = adam(h_params, grads[1], h_v, h_s, t, learning_rate, beta1, beta2,  epsilon)\n",
        "\n",
        "        cost_avg = cost_total / m\n",
        "        \n",
        "        end = timeit.default_timer()\n",
        "        print(f\"Epoch {i+1}/{num_epochs}: {end-start:.4f}\", end=\" \")\n",
        "        \n",
        "        print(f\"Cost: {cost_avg:.6f}\")\n",
        "        costs.append(cost_avg)\n",
        "\n",
        "    plt.plot(costs, label='loss', color='red')\n",
        "    plt.xlabel('epochs (per 1)')\n",
        "    plt.title(\"Learning rate = \" + str(learning_rate))\n",
        "    plt.legend()\n",
        "    plt.show()\n",
        "\n",
        "    return (c_params, h_params, hyparams)"
      ],
      "metadata": {
        "id": "iYIM3BD_O4sw"
      },
      "execution_count": 86,
      "outputs": []
    },
    {
      "cell_type": "code",
      "source": [
        "def predict(X, Y, parameters):\n",
        "\n",
        "  (c_params, h_params, hyparams) = parameters\n",
        "\n",
        "  c_A = {}\n",
        "  c_W = {}\n",
        "  c_b = {}\n",
        "  c_Z = {}\n",
        "\n",
        "  p_A = {}\n",
        "\n",
        "  h_Z = {}\n",
        "  h_A = {}\n",
        "  h_W = {}\n",
        "  h_b = {}\n",
        "\n",
        "  c_L = len(c_params) // 2\n",
        "  m = X.shape[0]\n",
        "\n",
        "  for l in range(1, c_L + 1):\n",
        "    \n",
        "    c_W['W' + str(l)] = c_params['W' + str(l)]\n",
        "    c_b['b' + str(l)] = c_params['b' + str(l)]\n",
        "\n",
        "  h_L = len(h_params) // 2\n",
        "\n",
        "  for l in range(1, h_L + 1):\n",
        "  \n",
        "    h_W['W' + str(l)] = h_params['W' + str(l)]\n",
        "    h_b['b' + str(l)] = h_params['b' + str(l)]\n",
        "\n",
        "  c_Z['Z1'] = conv_forward(X, c_W['W1'], c_b['b1'], hyparams)\n",
        "  c_A['A1'] = relu(c_Z['Z1'])\n",
        "  p_A['A1'] = pool_forward(c_A['A1'], hyparams, mode = \"max\")\n",
        "\n",
        "  for l in range(2, c_L):\n",
        "\n",
        "    c_Z['Z' + str(l)] = conv_forward(p_A['A' + str(l - 1)], c_W['W' + str(l)], c_b['b' + str(l)], hyparams)\n",
        "    c_A['A' + str(l)] = relu(c_Z['Z' + str(l)])\n",
        "    p_A['A' + str(l)] = pool_forward(c_A['A' + str(l)], hyparams, mode = \"max\")\n",
        "\n",
        "\n",
        "  c_Z['Z' + str(c_L)] = conv_forward(p_A['A' + str(c_L - 1)], c_W['W' + str(c_L)], c_b['b' + str(c_L)], hyparams)\n",
        "  c_A['A' + str(c_L)] = relu(c_Z['Z' + str(c_L)])\n",
        "  p_A['A' + str(c_L)] = pool_forward(c_A['A' + str(c_L)], hyparams, mode = \"max\")\n",
        "\n",
        "  p_A['Afcl'] = p_A['A' + str(c_L)].reshape(m, -1)\n",
        "\n",
        "  h_Z['Z1'] = np.dot(p_A['Afcl'], h_W['W1']) + h_b['b1']\n",
        "  h_A['A1'] = relu(h_Z['Z1'])\n",
        "    \n",
        "  for l in range(2, h_L):\n",
        "      \n",
        "    h_Z['Z' + str(l)] = np.dot(h_A['A' + str(l - 1)], h_W['W' + str(l)]) + h_b['b' + str(l)]\n",
        "    h_A['A' + str(l)] = relu(h_Z['Z' + str(l)])\n",
        "    \n",
        "  h_Z['Z' + str(h_L)] = np.dot(h_A['A' + str(h_L - 1)], h_W['W' + str(h_L)]) + h_b['b' + str(h_L)]  \n",
        "  h_A['A' + str(h_L)] = soft_max(h_Z['Z' + str(h_L)])\n",
        "\n",
        "  return  f\"Predict: {h_A['A' + str(h_L)].argmax()}, True: {y}\""
      ],
      "metadata": {
        "id": "xyfyGCQySN55"
      },
      "execution_count": 71,
      "outputs": []
    },
    {
      "cell_type": "code",
      "execution_count": 31,
      "metadata": {
        "id": "gTUj5gyUdeFP"
      },
      "outputs": [],
      "source": [
        "(x_train, y_train) , (x_test, y_test) = load_data()"
      ]
    },
    {
      "cell_type": "code",
      "execution_count": 32,
      "metadata": {
        "id": "-hjBo2zsdfPM"
      },
      "outputs": [],
      "source": [
        "c_layers_dims = [16, 32, 64, 128]\n",
        "h_layers_dims = [64, 32, 16, 8, 3]"
      ]
    },
    {
      "cell_type": "code",
      "execution_count": 99,
      "metadata": {
        "colab": {
          "base_uri": "https://localhost:8080/",
          "height": 382
        },
        "id": "F7HdqWKM4gjz",
        "outputId": "4d56ab79-9aac-47b4-915b-f8d6ee09ec83"
      },
      "outputs": [
        {
          "output_type": "stream",
          "name": "stdout",
          "text": [
            "Epoch 1/5: 133.5787 Cost: 0.043234\n",
            "Epoch 2/5: 134.4512 Cost: 0.032261\n",
            "Epoch 3/5: 133.5569 Cost: 0.024911\n",
            "Epoch 4/5: 134.9584 Cost: 0.018385\n",
            "Epoch 5/5: 135.6099 Cost: 0.017653\n"
          ]
        },
        {
          "output_type": "display_data",
          "data": {
            "text/plain": [
              "<Figure size 432x288 with 1 Axes>"
            ],
            "image/png": "[encoded data removed]"
          },
          "metadata": {
            "needs_background": "light"
          }
        }
      ],
      "source": [
        "parameters = model(x_train, y_train, c_layers_dims, h_layers_dims, mini_batch_size=4, num_epochs=5, learning_rate=0.0001, params=parameters)"
      ]
    },
    {
      "cell_type": "code",
      "execution_count": 100,
      "metadata": {
        "colab": {
          "base_uri": "https://localhost:8080/"
        },
        "id": "yfJAVtu6Hn6S",
        "outputId": "f211ca2c-0cce-4b5a-b9c0-0c49a455a6ae"
      },
      "outputs": [
        {
          "output_type": "stream",
          "name": "stdout",
          "text": [
            "Predict: 0, True: 0\n",
            "Predict: 0, True: 0\n",
            "Predict: 0, True: 0\n",
            "Predict: 0, True: 0\n",
            "Predict: 0, True: 0\n",
            "Predict: 0, True: 0\n",
            "Predict: 0, True: 0\n",
            "Predict: 0, True: 0\n",
            "Predict: 0, True: 0\n",
            "Predict: 0, True: 0\n",
            "Predict: 0, True: 0\n",
            "Predict: 2, True: 1\n",
            "Predict: 1, True: 1\n",
            "Predict: 1, True: 1\n",
            "Predict: 2, True: 1\n",
            "Predict: 1, True: 1\n",
            "Predict: 1, True: 1\n",
            "Predict: 2, True: 1\n",
            "Predict: 2, True: 1\n",
            "Predict: 1, True: 1\n",
            "Predict: 1, True: 1\n",
            "Predict: 1, True: 1\n",
            "Predict: 2, True: 2\n",
            "Predict: 2, True: 2\n",
            "Predict: 2, True: 2\n",
            "Predict: 2, True: 2\n",
            "Predict: 1, True: 2\n",
            "Predict: 2, True: 2\n",
            "Predict: 2, True: 2\n",
            "Predict: 2, True: 2\n",
            "Predict: 2, True: 2\n",
            "Predict: 1, True: 2\n",
            "Predict: 2, True: 2\n",
            "Predict: 2, True: 2\n"
          ]
        }
      ],
      "source": [
        "for i in range(len(x_test)):\n",
        "  x = np.asarray(x_test[i]).reshape(1, 32, 32, 3) / 255\n",
        "  y = np.asarray(y_test[i])\n",
        "  print(predict(x, y, parameters))"
      ]
    }
  ],
  "metadata": {
    "colab": {
      "provenance": []
    },
    "kernelspec": {
      "display_name": "Python 3",
      "name": "python3"
    },
    "language_info": {
      "name": "python"
    }
  },
  "nbformat": 4,
  "nbformat_minor": 0
}